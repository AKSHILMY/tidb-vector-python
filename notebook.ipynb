{
 "cells": [
  {
   "cell_type": "code",
   "execution_count": 1,
   "metadata": {},
   "outputs": [
    {
     "data": {
      "text/plain": [
       "True"
      ]
     },
     "execution_count": 1,
     "metadata": {},
     "output_type": "execute_result"
    }
   ],
   "source": [
    "import os\n",
    "import dotenv\n",
    "\n",
    "from sqlalchemy import Column, Integer, create_engine, Text\n",
    "from sqlalchemy.orm import declarative_base, Session\n",
    "from tidb_vector.sqlalchemy import VectorType\n",
    "\n",
    "from sqlalchemy import URL\n",
    "\n",
    "dotenv.load_dotenv()"
   ]
  },
  {
   "cell_type": "code",
   "execution_count": 2,
   "metadata": {},
   "outputs": [],
   "source": [
    "# Step 1: Connect to TiDB using SQLAlchemy.\n",
    "tidb_connection_string = URL(\n",
    "    \"mysql+pymysql\",\n",
    "    username=os.environ['TIDB_USERNAME'],\n",
    "    password=os.environ['TIDB_PASSWORD'],\n",
    "    host=os.environ['TIDB_HOST'],\n",
    "    port=4000,\n",
    "    database=\"test\",\n",
    "    query={\"ssl_verify_cert\": True, \"ssl_verify_identity\": True},\n",
    ")\n",
    "engine = create_engine(tidb_connection_string)\n",
    "\n",
    "# Step 2: Define a table with a vector column.\n",
    "Base = declarative_base()\n",
    "\n",
    "# Issue : https://stackoverflow.com/questions/454854/no-module-named-mysqldb"
   ]
  },
  {
   "cell_type": "code",
   "execution_count": 3,
   "metadata": {},
   "outputs": [],
   "source": [
    "class Document(Base):\n",
    "    __tablename__ = 'sqlalchemy_demo_documents'\n",
    "    id = Column(Integer, primary_key=True)\n",
    "    content = Column(Text)\n",
    "    embedding = Column(VectorType(1536))"
   ]
  },
  {
   "cell_type": "code",
   "execution_count": 4,
   "metadata": {},
   "outputs": [],
   "source": [
    "class DocumentWithIndex(Base):\n",
    "    __tablename__ = 'sqlalchemy_demo_documents_with_index'\n",
    "    id = Column(Integer, primary_key=True)\n",
    "    content = Column(Text)\n",
    "    embedding = Column(VectorType(1536), comment=\"hnsw(distance=cosine)\")\n"
   ]
  },
  {
   "cell_type": "code",
   "execution_count": 5,
   "metadata": {},
   "outputs": [],
   "source": [
    "Base.metadata.drop_all(engine)\n",
    "Base.metadata.create_all(engine)"
   ]
  },
  {
   "cell_type": "code",
   "execution_count": 6,
   "metadata": {},
   "outputs": [],
   "source": [
    "EXAMPLE_1 = \"\"\"\n",
    "To become a leader, you need to demonstrate several key behaviors. Here's a list of actions and competencies that are highly related to leadership:\n",
    "\n",
    "1. Give clear directions to team members and ensure they are understood.\n",
    "2. Coordinate team activities.\n",
    "3. Set clear, measurable goals and objectives for team members.\n",
    "4. Adapt your approach to the individual or situation.\n",
    "5. Keep team members focused on important objectives.\n",
    "6. Create a vision, bring meaning, be strategic, inspire, involve, align, communicate, connect, motivate (these are some of the roles a leader plays).\n",
    "7. Define goals, plan, organize, coordinate, forecast, track progress, review (these are some of the tasks a manager does).\n",
    "8. Impart specific domain knowledge, share functional expertise, teach technical skills (these are some of the roles a mentor plays).\n",
    "9. Guide, develop, encourage, stimulate, engage, confront, challenge, advise (these are some of the roles a coach plays).\n",
    "\"\"\"\n",
    "\n",
    "EXAMPLE_2 = \"\"\"\n",
    "Boosting Confidence: Quick Tips\n",
    "1. Know Your Strengths:\n",
    "2. Identify what you’re good at and celebrate your successes, no matter how small.\n",
    "3. Set Achievable Goals:\n",
    "4. Break tasks into small, manageable steps and track your progress.\n",
    "5. Practice Positive Self-Talk:\n",
    "6. Replace negative thoughts with positive affirmations to reinforce self-belief.\n",
    "7. Challenge yourself with new experiences to build resilience and self-assurance.\n",
    "\"\"\""
   ]
  },
  {
   "cell_type": "code",
   "execution_count": 7,
   "metadata": {},
   "outputs": [],
   "source": [
    "# Get text and embeddings\n",
    "EMBEDDING_MODEL_ENDPOINT = \"https://api.openai.com/v1/embeddings\"\n",
    "import os\n",
    "import openai\n",
    "from dotenv import load_dotenv\n",
    "load_dotenv()\n",
    "\n",
    "\n",
    "# Load environment variables\n",
    "OPENAI_ORG = os.getenv('OPENAI_ORG')\n",
    "OPENAI_APIKEY = os.getenv('OPENAI_APIKEY')\n",
    "\n",
    "openai.organization = OPENAI_ORG\n",
    "openai.api_key = OPENAI_APIKEY\n",
    "\n",
    "\n",
    "openai_client = openai.OpenAI(api_key=OPENAI_APIKEY)\n",
    "def get_embedding(text, model=\"text-embedding-ada-002\"):\n",
    "   text = text.replace(\"\\n\", \" \")\n",
    "   return openai_client.embeddings.create(input = [text], model=model).data[0].embedding"
   ]
  },
  {
   "cell_type": "code",
   "execution_count": 8,
   "metadata": {},
   "outputs": [],
   "source": [
    "with Session(engine) as session:\n",
    "    session.add(Document(content=EXAMPLE_1, embedding=get_embedding(EXAMPLE_1)))\n",
    "    session.add(Document(content=EXAMPLE_2, embedding=get_embedding(EXAMPLE_2)))\n",
    "    session.commit()\n"
   ]
  },
  {
   "cell_type": "code",
   "execution_count": 9,
   "metadata": {},
   "outputs": [],
   "source": [
    "user_query = \"How to become a leader?\"\n",
    "user_query_embedding = get_embedding(user_query)"
   ]
  },
  {
   "cell_type": "code",
   "execution_count": 11,
   "metadata": {},
   "outputs": [
    {
     "name": "stdout",
     "output_type": "stream",
     "text": [
      "Get 3-nearest neighbor documents:\n",
      "  - distance: 0.1365278946070263\n",
      "    document: \n",
      "To become a leader, you need to demonstrate several key behaviors. Here's a list of actions and competencies that are highly related to leadership:\n",
      "\n",
      "1. Give clear directions to team members and ensure they are understood.\n",
      "2. Coordinate team activities.\n",
      "3. Set clear, measurable goals and objectives for team members.\n",
      "4. Adapt your approach to the individual or situation.\n",
      "5. Keep team members focused on important objectives.\n",
      "6. Create a vision, bring meaning, be strategic, inspire, involve, align, communicate, connect, motivate (these are some of the roles a leader plays).\n",
      "7. Define goals, plan, organize, coordinate, forecast, track progress, review (these are some of the tasks a manager does).\n",
      "8. Impart specific domain knowledge, share functional expertise, teach technical skills (these are some of the roles a mentor plays).\n",
      "9. Guide, develop, encourage, stimulate, engage, confront, challenge, advise (these are some of the roles a coach plays).\n",
      "\n"
     ]
    }
   ],
   "source": [
    "# Step 4: Get the 3-nearest neighbor documents.\n",
    "print('Get 3-nearest neighbor documents:')\n",
    "with Session(engine) as session:\n",
    "    distance = Document.embedding.cosine_distance(user_query_embedding).label('distance')\n",
    "    results = session.query(Document, distance).order_by(distance).limit(1).all()\n",
    "\n",
    "    for doc, distance in results:\n",
    "        print(f'  - distance: {distance}\\n'\n",
    "              f'    document: {doc.content}')"
   ]
  },
  {
   "cell_type": "code",
   "execution_count": 12,
   "metadata": {},
   "outputs": [
    {
     "name": "stdout",
     "output_type": "stream",
     "text": [
      "Get documents within a certain distance:\n",
      "  - distance: 0.1365278946070263\n",
      "    document: \n",
      "To become a leader, you need to demonstrate several key behaviors. Here's a list of actions and competencies that are highly related to leadership:\n",
      "\n",
      "1. Give clear directions to team members and ensure they are understood.\n",
      "2. Coordinate team activities.\n",
      "3. Set clear, measurable goals and objectives for team members.\n",
      "4. Adapt your approach to the individual or situation.\n",
      "5. Keep team members focused on important objectives.\n",
      "6. Create a vision, bring meaning, be strategic, inspire, involve, align, communicate, connect, motivate (these are some of the roles a leader plays).\n",
      "7. Define goals, plan, organize, coordinate, forecast, track progress, review (these are some of the tasks a manager does).\n",
      "8. Impart specific domain knowledge, share functional expertise, teach technical skills (these are some of the roles a mentor plays).\n",
      "9. Guide, develop, encourage, stimulate, engage, confront, challenge, advise (these are some of the roles a coach plays).\n",
      "\n"
     ]
    }
   ],
   "source": [
    "# Step 5: Get documents within a certain distance.\n",
    "print('Get documents within a certain distance:')\n",
    "with (Session(engine) as session):\n",
    "    distance = Document.embedding.cosine_distance(user_query_embedding).label('distance')\n",
    "    results = session.query(\n",
    "        Document, distance\n",
    "    ).filter(distance < 0.2).order_by(distance).limit(1).all()\n",
    "\n",
    "    for doc, distance in results:\n",
    "        print(f'  - distance: {distance}\\n'\n",
    "              f'    document: {doc.content}')\n"
   ]
  }
 ],
 "metadata": {
  "kernelspec": {
   "display_name": "venv",
   "language": "python",
   "name": "python3"
  },
  "language_info": {
   "codemirror_mode": {
    "name": "ipython",
    "version": 3
   },
   "file_extension": ".py",
   "mimetype": "text/x-python",
   "name": "python",
   "nbconvert_exporter": "python",
   "pygments_lexer": "ipython3",
   "version": "3.11.9"
  }
 },
 "nbformat": 4,
 "nbformat_minor": 2
}
